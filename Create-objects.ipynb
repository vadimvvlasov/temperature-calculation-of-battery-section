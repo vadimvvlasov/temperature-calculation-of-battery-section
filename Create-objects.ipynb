{
 "cells": [
  {
   "cell_type": "markdown",
   "metadata": {},
   "source": [
    "# Аналитическая модель конвективного теплообмена\n",
    "Для описания конвективной теплоотдачи используется формула:\n",
    "\n",
    "$$q_{cт} = a(Т_0—Т_{ст}),  (1)$$\n",
    "\n",
    "где qcт — плотность теплового потока на поверхности, вт/м2; a — коэффициент теплоотдачи, вт/(м2·°С); T0 и Тст — температуры среды (жидкости или газа) и поверхности соответственно. Величину T0 — Тст часто обозначают DТ и называется температурным напором.\n",
    "  \n",
    "1. `get_convection_from_temperature`\n",
    "\n",
    "  Из уравнения (1) следует что коэффициент теплоотдачи равен\n",
    "  \n",
    "    $$a = {q_{cт}\\over{(Т_0—Т_{ст})}},  (2)$$\n",
    "\n",
    "2. `get_temperature_from_convection`\n",
    "\n",
    "  Из уравнения (1) следует что температурный напор `temperature_head` равен:\n",
    "   \n",
    "$$(Т_0—Т_{ст}) = {q_{cт} \\over a}, (3)$$"
   ]
  },
  {
   "cell_type": "code",
   "execution_count": 1,
   "metadata": {},
   "outputs": [],
   "source": [
    "from batterysection import *"
   ]
  },
  {
   "cell_type": "markdown",
   "metadata": {},
   "source": [
    "## Секция-154. \n",
    "### Расчёт коэффициента теплоотдачи, вт/(м2·°С)\n",
    "Дано:\n",
    "- секция с внутренним диаметром 154 мм,\n",
    "- мощность рассения $P_{diss} = 15 Вт$,\n",
    "- температурный напор $(Т_0—Т_{ст}) = 30 °С$\n",
    "\n",
    "Найти:  коэффициент теплоотдачи $a, {Вт \\over {(м²·°С)}}$\n",
    "\n",
    "$a = {{q_{cт}} \\over {(Т_0—Т_{ст})}}$"
   ]
  },
  {
   "cell_type": "code",
   "execution_count": 2,
   "metadata": {},
   "outputs": [
    {
     "data": {
      "text/plain": [
       "Секция-154: \n",
       "- мощность рассеяния = 15 Вт,\n",
       "- коэффициент конвективного теплообмена = 1.565 Вт/(м²·°С),\n",
       "- температурный напор = 30.0°С.\n",
       "        "
      ]
     },
     "execution_count": 2,
     "metadata": {},
     "output_type": "execute_result"
    }
   ],
   "source": [
    "bs154 = BatarySetion(length = 412e-3,\n",
    "                     inner_diameter = 154e-3,\n",
    "                     radial_wall_thickness = 16e-3,\n",
    "                     axial_wall_thickness = 32e-3,\n",
    "                     power_dissipation = 15,\n",
    "                     convection_coefficient = None,\n",
    "                     temperature_head = 30,\n",
    "                     ambient_temperature=300)\n",
    "bs154"
   ]
  },
  {
   "cell_type": "code",
   "execution_count": 3,
   "metadata": {},
   "outputs": [],
   "source": [
    "convection_coefficient_calculated = bs154.convection_coefficient"
   ]
  },
  {
   "cell_type": "markdown",
   "metadata": {},
   "source": [
    "## Секция-220. \n",
    "### Расчёт температурного напора $(Т_0—Т_{ст})$, °С\n",
    "Дано:\n",
    "- секция с внутренним диаметром 220 мм,\n",
    "- мощность рассения $P_{diss} = 15 Вт$,\n",
    "- коэффициент теплоотдачи $a = 1.043 {Вт \\over (м²·°С)}$\n",
    "\n",
    "Найти:  температурный напор $(Т_0—Т_{ст}), °С$\n",
    "\n",
    "$$(Т_0—Т_{ст}) = {q_{cт} \\over a}$$"
   ]
  },
  {
   "cell_type": "code",
   "execution_count": 4,
   "metadata": {},
   "outputs": [
    {
     "data": {
      "text/plain": [
       "Секция-220: \n",
       "- мощность рассеяния = 15 Вт,\n",
       "- коэффициент конвективного теплообмена = 1.565 Вт/(м²·°С),\n",
       "- температурный напор = 12.1°С.\n",
       "        "
      ]
     },
     "execution_count": 4,
     "metadata": {},
     "output_type": "execute_result"
    }
   ],
   "source": [
    "bs220 = BatarySetion(length = 800e-3,\n",
    "                     inner_diameter = 220e-3,\n",
    "                     radial_wall_thickness = 18e-3,\n",
    "                     axial_wall_thickness = 34e-3,\n",
    "                     power_dissipation = 15,\n",
    "                     convection_coefficient = convection_coefficient_calculated,\n",
    "                     temperature_head = None,\n",
    "                     ambient_temperature=300)\n",
    "bs220"
   ]
  },
  {
   "cell_type": "markdown",
   "metadata": {},
   "source": [
    "## Расчёт температуры поверхности аккумуляторных секций"
   ]
  },
  {
   "cell_type": "code",
   "execution_count": 5,
   "metadata": {
    "scrolled": true
   },
   "outputs": [
    {
     "data": {
      "text/html": [
       "<div>\n",
       "<style scoped>\n",
       "    .dataframe tbody tr th:only-of-type {\n",
       "        vertical-align: middle;\n",
       "    }\n",
       "\n",
       "    .dataframe tbody tr th {\n",
       "        vertical-align: top;\n",
       "    }\n",
       "\n",
       "    .dataframe thead th {\n",
       "        text-align: right;\n",
       "    }\n",
       "</style>\n",
       "<table border=\"1\" class=\"dataframe\">\n",
       "  <thead>\n",
       "    <tr style=\"text-align: right;\">\n",
       "      <th></th>\n",
       "      <th>name</th>\n",
       "      <th>length, m</th>\n",
       "      <th>inner_diameter, m</th>\n",
       "      <th>radial_wall_thickness, m</th>\n",
       "      <th>axial_wall_thickness, m</th>\n",
       "    </tr>\n",
       "  </thead>\n",
       "  <tbody>\n",
       "    <tr>\n",
       "      <th>0</th>\n",
       "      <td>154</td>\n",
       "      <td>0.412</td>\n",
       "      <td>0.154</td>\n",
       "      <td>0.016</td>\n",
       "      <td>0.032</td>\n",
       "    </tr>\n",
       "    <tr>\n",
       "      <th>1</th>\n",
       "      <td>220</td>\n",
       "      <td>0.800</td>\n",
       "      <td>0.220</td>\n",
       "      <td>0.018</td>\n",
       "      <td>0.034</td>\n",
       "    </tr>\n",
       "  </tbody>\n",
       "</table>\n",
       "</div>"
      ],
      "text/plain": [
       "   name  length, m  inner_diameter, m  radial_wall_thickness, m  \\\n",
       "0   154      0.412              0.154                     0.016   \n",
       "1   220      0.800              0.220                     0.018   \n",
       "\n",
       "   axial_wall_thickness, m  \n",
       "0                    0.032  \n",
       "1                    0.034  "
      ]
     },
     "execution_count": 5,
     "metadata": {},
     "output_type": "execute_result"
    }
   ],
   "source": [
    "# load input parameters for battery sections\n",
    "import pandas as pd\n",
    "df = load_section_parameters('section_parameters.xlsx');df"
   ]
  },
  {
   "cell_type": "code",
   "execution_count": 6,
   "metadata": {},
   "outputs": [
    {
     "name": "stdout",
     "output_type": "stream",
     "text": [
      "Секция-154:\n",
      "    температурный напор (Т0—Тст)=30.0 °С, \n",
      "    коэффицинт теплоотдачи a=1.56 Вт/(м²·°С), \n",
      "Секция-220:\n",
      "    температурный напор (Т0—Тст)=12.1 °С, \n",
      "    коэффицинт теплоотдачи a=1.56 Вт/(м²·°С), \n"
     ]
    }
   ],
   "source": [
    "# Create instances of battery sectons and calculate its temperature head (Т0—Тст)\n",
    "batary_sections = get_instances_from_input_data(df, convection_coefficient_calculated)\n",
    "# Print data for each batary section\n",
    "print_surfase_temperature(batary_sections)"
   ]
  }
 ],
 "metadata": {
  "kernelspec": {
   "display_name": "Python 3",
   "language": "python",
   "name": "python3"
  },
  "language_info": {
   "codemirror_mode": {
    "name": "ipython",
    "version": 3
   },
   "file_extension": ".py",
   "mimetype": "text/x-python",
   "name": "python",
   "nbconvert_exporter": "python",
   "pygments_lexer": "ipython3",
   "version": "3.8.1"
  }
 },
 "nbformat": 4,
 "nbformat_minor": 4
}
