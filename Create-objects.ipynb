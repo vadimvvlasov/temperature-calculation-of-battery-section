{
 "cells": [
  {
   "cell_type": "markdown",
   "metadata": {},
   "source": [
    "  Для описания конвективной теплоотдачи используется формула:\n",
    "\n",
    "  $$q_{cт} = a(Т_0—Т_{ст}),  (1)$$\n",
    "\n",
    "  где qcт — плотность теплового потока на поверхности, вт/м2; a — коэффициент теплоотдачи, вт/(м2·°С); T0 и Тст — температуры среды (жидкости или газа) и поверхности соответственно. Величину T0 — Тст часто обозначают DТ и называется температурным напором.\n",
    "  \n",
    "1. `get_convection_from_temperature`\n",
    "\n",
    "  Из уравнения (1) следует что коэффициент теплоотдачи равен\n",
    "  \n",
    "    $$a = {q_{cт}\\over{(Т_0—Т_{ст})}},  (2)$$\n",
    "\n",
    "2. `get_temperature_from_convection`\n",
    "\n",
    "  Из уравнения (1) следует что температурный напор `temperature_head` равен:\n",
    "   \n",
    "$$(Т_0—Т_{ст}) = {q_{cт} \\over a}, (3)$$"
   ]
  },
  {
   "cell_type": "code",
   "execution_count": 5,
   "metadata": {},
   "outputs": [],
   "source": [
    "from batterysection import *"
   ]
  },
  {
   "cell_type": "markdown",
   "metadata": {},
   "source": [
    "## Расчёт коэффициента теплоотдачи, вт/(м2·°С)\n",
    "Дано:\n",
    "- секция с внутренним диаметром 154 мм,\n",
    "- мощность рассения $P_{diss} = 15 Вт$,\n",
    "- температурный напор $(Т_0—Т_{ст}) = 30 °С$\n",
    "\n",
    "Найти:  коэффициент теплоотдачи $a$, вт/(м2·°С)\n",
    "\n",
    "$a = q_{cт}/(Т_0—Т_{ст})$"
   ]
  },
  {
   "cell_type": "code",
   "execution_count": 6,
   "metadata": {},
   "outputs": [],
   "source": [
    "bs145 = BatarySetion(length = 412e-3,\n",
    "                     inner_diameter = 154e-3,\n",
    "                     radial_wall_thickness = 16e-3,\n",
    "                     axial_wall_thickness = 32e-3,\n",
    "                     power_dissipation = 10,\n",
    "                     convection_coefficient = None,\n",
    "                     temperature_head = 30,\n",
    "                     ambient_temperature=300)"
   ]
  },
  {
   "cell_type": "code",
   "execution_count": 9,
   "metadata": {
    "scrolled": false
   },
   "outputs": [
    {
     "data": {
      "text/plain": [
       "batterysection.BatarySetion"
      ]
     },
     "execution_count": 9,
     "metadata": {},
     "output_type": "execute_result"
    }
   ],
   "source": [
    "bs145"
   ]
  },
  {
   "cell_type": "code",
   "execution_count": 8,
   "metadata": {},
   "outputs": [],
   "source": [
    "base_convection_coefficient = bs145.convection_coefficient"
   ]
  },
  {
   "cell_type": "code",
   "execution_count": null,
   "metadata": {},
   "outputs": [],
   "source": []
  },
  {
   "cell_type": "code",
   "execution_count": null,
   "metadata": {},
   "outputs": [],
   "source": []
  }
 ],
 "metadata": {
  "kernelspec": {
   "display_name": "Python 3",
   "language": "python",
   "name": "python3"
  },
  "language_info": {
   "codemirror_mode": {
    "name": "ipython",
    "version": 3
   },
   "file_extension": ".py",
   "mimetype": "text/x-python",
   "name": "python",
   "nbconvert_exporter": "python",
   "pygments_lexer": "ipython3",
   "version": "3.8.1"
  }
 },
 "nbformat": 4,
 "nbformat_minor": 4
}
